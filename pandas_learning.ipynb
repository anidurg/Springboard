{
 "cells": [
  {
   "cell_type": "markdown",
   "id": "e3ccbbff",
   "metadata": {},
   "source": [
    "### To install pandas-datareader, \n",
    "At the command shell prompt enter, \n",
    "conda install pandas-datareader\n"
   ]
  },
  {
   "cell_type": "code",
   "execution_count": 1,
   "id": "b6c7fb01",
   "metadata": {},
   "outputs": [],
   "source": [
    "import numpy as  np\n",
    "import pandas as pd\n",
    "%matplotlib inline\n",
    "import matplotlib.pyplot as plt\n",
    "import pandas_datareader as pdr"
   ]
  },
  {
   "cell_type": "markdown",
   "id": "4c998b6a",
   "metadata": {},
   "source": [
    "## Get Data(5 years, Google, Amazon)"
   ]
  },
  {
   "cell_type": "code",
   "execution_count": 2,
   "id": "c78bc38c",
   "metadata": {},
   "outputs": [],
   "source": [
    "amzn = pdr.get_data_yahoo('AMZN','20121101')\n",
    "goog = pdr.get_data_yahoo('GOOG','2012-11-01')"
   ]
  },
  {
   "cell_type": "markdown",
   "id": "e777aedb",
   "metadata": {},
   "source": [
    "###  View,Head, Tail, Info "
   ]
  },
  {
   "cell_type": "code",
   "execution_count": 3,
   "id": "a1ed63da",
   "metadata": {},
   "outputs": [
    {
     "data": {
      "text/html": [
       "<div>\n",
       "<style scoped>\n",
       "    .dataframe tbody tr th:only-of-type {\n",
       "        vertical-align: middle;\n",
       "    }\n",
       "\n",
       "    .dataframe tbody tr th {\n",
       "        vertical-align: top;\n",
       "    }\n",
       "\n",
       "    .dataframe thead th {\n",
       "        text-align: right;\n",
       "    }\n",
       "</style>\n",
       "<table border=\"1\" class=\"dataframe\">\n",
       "  <thead>\n",
       "    <tr style=\"text-align: right;\">\n",
       "      <th></th>\n",
       "      <th>High</th>\n",
       "      <th>Low</th>\n",
       "      <th>Open</th>\n",
       "      <th>Close</th>\n",
       "      <th>Volume</th>\n",
       "      <th>Adj Close</th>\n",
       "    </tr>\n",
       "    <tr>\n",
       "      <th>Date</th>\n",
       "      <th></th>\n",
       "      <th></th>\n",
       "      <th></th>\n",
       "      <th></th>\n",
       "      <th></th>\n",
       "      <th></th>\n",
       "    </tr>\n",
       "  </thead>\n",
       "  <tbody>\n",
       "    <tr>\n",
       "      <th>2012-11-01</th>\n",
       "      <td>11.7275</td>\n",
       "      <td>11.5670</td>\n",
       "      <td>11.7115</td>\n",
       "      <td>11.6070</td>\n",
       "      <td>78102000.0</td>\n",
       "      <td>11.6070</td>\n",
       "    </tr>\n",
       "    <tr>\n",
       "      <th>2012-11-02</th>\n",
       "      <td>11.8700</td>\n",
       "      <td>11.6055</td>\n",
       "      <td>11.7005</td>\n",
       "      <td>11.6210</td>\n",
       "      <td>67494000.0</td>\n",
       "      <td>11.6210</td>\n",
       "    </tr>\n",
       "    <tr>\n",
       "      <th>2012-11-05</th>\n",
       "      <td>11.7415</td>\n",
       "      <td>11.5055</td>\n",
       "      <td>11.6020</td>\n",
       "      <td>11.7165</td>\n",
       "      <td>36922000.0</td>\n",
       "      <td>11.7165</td>\n",
       "    </tr>\n",
       "    <tr>\n",
       "      <th>2012-11-06</th>\n",
       "      <td>11.8875</td>\n",
       "      <td>11.7225</td>\n",
       "      <td>11.7705</td>\n",
       "      <td>11.8780</td>\n",
       "      <td>53226000.0</td>\n",
       "      <td>11.8780</td>\n",
       "    </tr>\n",
       "    <tr>\n",
       "      <th>2012-11-07</th>\n",
       "      <td>11.7830</td>\n",
       "      <td>11.4710</td>\n",
       "      <td>11.7825</td>\n",
       "      <td>11.6030</td>\n",
       "      <td>72484000.0</td>\n",
       "      <td>11.6030</td>\n",
       "    </tr>\n",
       "  </tbody>\n",
       "</table>\n",
       "</div>"
      ],
      "text/plain": [
       "               High      Low     Open    Close      Volume  Adj Close\n",
       "Date                                                                 \n",
       "2012-11-01  11.7275  11.5670  11.7115  11.6070  78102000.0    11.6070\n",
       "2012-11-02  11.8700  11.6055  11.7005  11.6210  67494000.0    11.6210\n",
       "2012-11-05  11.7415  11.5055  11.6020  11.7165  36922000.0    11.7165\n",
       "2012-11-06  11.8875  11.7225  11.7705  11.8780  53226000.0    11.8780\n",
       "2012-11-07  11.7830  11.4710  11.7825  11.6030  72484000.0    11.6030"
      ]
     },
     "execution_count": 3,
     "metadata": {},
     "output_type": "execute_result"
    }
   ],
   "source": [
    "amzn.head()"
   ]
  },
  {
   "cell_type": "code",
   "execution_count": 4,
   "id": "084d7a14",
   "metadata": {},
   "outputs": [
    {
     "data": {
      "text/html": [
       "<div>\n",
       "<style scoped>\n",
       "    .dataframe tbody tr th:only-of-type {\n",
       "        vertical-align: middle;\n",
       "    }\n",
       "\n",
       "    .dataframe tbody tr th {\n",
       "        vertical-align: top;\n",
       "    }\n",
       "\n",
       "    .dataframe thead th {\n",
       "        text-align: right;\n",
       "    }\n",
       "</style>\n",
       "<table border=\"1\" class=\"dataframe\">\n",
       "  <thead>\n",
       "    <tr style=\"text-align: right;\">\n",
       "      <th></th>\n",
       "      <th>High</th>\n",
       "      <th>Low</th>\n",
       "      <th>Open</th>\n",
       "      <th>Close</th>\n",
       "      <th>Volume</th>\n",
       "      <th>Adj Close</th>\n",
       "    </tr>\n",
       "    <tr>\n",
       "      <th>Date</th>\n",
       "      <th></th>\n",
       "      <th></th>\n",
       "      <th></th>\n",
       "      <th></th>\n",
       "      <th></th>\n",
       "      <th></th>\n",
       "    </tr>\n",
       "  </thead>\n",
       "  <tbody>\n",
       "    <tr>\n",
       "      <th>2022-07-11</th>\n",
       "      <td>114.300003</td>\n",
       "      <td>110.870003</td>\n",
       "      <td>114.080002</td>\n",
       "      <td>111.750000</td>\n",
       "      <td>53487600.0</td>\n",
       "      <td>111.750000</td>\n",
       "    </tr>\n",
       "    <tr>\n",
       "      <th>2022-07-12</th>\n",
       "      <td>113.230003</td>\n",
       "      <td>108.339996</td>\n",
       "      <td>112.160004</td>\n",
       "      <td>109.220001</td>\n",
       "      <td>54280300.0</td>\n",
       "      <td>109.220001</td>\n",
       "    </tr>\n",
       "    <tr>\n",
       "      <th>2022-07-13</th>\n",
       "      <td>111.779999</td>\n",
       "      <td>106.010002</td>\n",
       "      <td>107.029999</td>\n",
       "      <td>110.400002</td>\n",
       "      <td>61353800.0</td>\n",
       "      <td>110.400002</td>\n",
       "    </tr>\n",
       "    <tr>\n",
       "      <th>2022-07-14</th>\n",
       "      <td>111.180000</td>\n",
       "      <td>107.580002</td>\n",
       "      <td>110.239998</td>\n",
       "      <td>110.629997</td>\n",
       "      <td>51163100.0</td>\n",
       "      <td>110.629997</td>\n",
       "    </tr>\n",
       "    <tr>\n",
       "      <th>2022-07-15</th>\n",
       "      <td>115.589996</td>\n",
       "      <td>111.589996</td>\n",
       "      <td>112.500000</td>\n",
       "      <td>113.550003</td>\n",
       "      <td>83891100.0</td>\n",
       "      <td>113.550003</td>\n",
       "    </tr>\n",
       "  </tbody>\n",
       "</table>\n",
       "</div>"
      ],
      "text/plain": [
       "                  High         Low        Open       Close      Volume  \\\n",
       "Date                                                                     \n",
       "2022-07-11  114.300003  110.870003  114.080002  111.750000  53487600.0   \n",
       "2022-07-12  113.230003  108.339996  112.160004  109.220001  54280300.0   \n",
       "2022-07-13  111.779999  106.010002  107.029999  110.400002  61353800.0   \n",
       "2022-07-14  111.180000  107.580002  110.239998  110.629997  51163100.0   \n",
       "2022-07-15  115.589996  111.589996  112.500000  113.550003  83891100.0   \n",
       "\n",
       "             Adj Close  \n",
       "Date                    \n",
       "2022-07-11  111.750000  \n",
       "2022-07-12  109.220001  \n",
       "2022-07-13  110.400002  \n",
       "2022-07-14  110.629997  \n",
       "2022-07-15  113.550003  "
      ]
     },
     "execution_count": 4,
     "metadata": {},
     "output_type": "execute_result"
    }
   ],
   "source": [
    "amzn.tail()"
   ]
  },
  {
   "cell_type": "code",
   "execution_count": 5,
   "id": "c1cfafb0",
   "metadata": {},
   "outputs": [
    {
     "name": "stdout",
     "output_type": "stream",
     "text": [
      "<class 'pandas.core.frame.DataFrame'>\n",
      "DatetimeIndex: 2442 entries, 2012-11-01 to 2022-07-15\n",
      "Data columns (total 6 columns):\n",
      " #   Column     Non-Null Count  Dtype  \n",
      "---  ------     --------------  -----  \n",
      " 0   High       2442 non-null   float64\n",
      " 1   Low        2442 non-null   float64\n",
      " 2   Open       2442 non-null   float64\n",
      " 3   Close      2442 non-null   float64\n",
      " 4   Volume     2442 non-null   float64\n",
      " 5   Adj Close  2442 non-null   float64\n",
      "dtypes: float64(6)\n",
      "memory usage: 133.5 KB\n"
     ]
    }
   ],
   "source": [
    "amzn.info()"
   ]
  },
  {
   "cell_type": "code",
   "execution_count": 6,
   "id": "cffa7c90",
   "metadata": {},
   "outputs": [
    {
     "name": "stdout",
     "output_type": "stream",
     "text": [
      "<class 'pandas.core.frame.DataFrame'>\n",
      "DatetimeIndex: 2442 entries, 2012-11-01 to 2022-07-15\n",
      "Data columns (total 6 columns):\n",
      " #   Column     Non-Null Count  Dtype  \n",
      "---  ------     --------------  -----  \n",
      " 0   High       2442 non-null   float64\n",
      " 1   Low        2442 non-null   float64\n",
      " 2   Open       2442 non-null   float64\n",
      " 3   Close      2442 non-null   float64\n",
      " 4   Volume     2442 non-null   float64\n",
      " 5   Adj Close  2442 non-null   float64\n",
      "dtypes: float64(6)\n",
      "memory usage: 133.5 KB\n",
      "<class 'pandas.core.frame.DataFrame'>\n",
      "DatetimeIndex: 2091 entries, 2014-03-27 to 2022-07-15\n",
      "Data columns (total 6 columns):\n",
      " #   Column     Non-Null Count  Dtype  \n",
      "---  ------     --------------  -----  \n",
      " 0   High       2091 non-null   float64\n",
      " 1   Low        2091 non-null   float64\n",
      " 2   Open       2091 non-null   float64\n",
      " 3   Close      2091 non-null   float64\n",
      " 4   Volume     2091 non-null   float64\n",
      " 5   Adj Close  2091 non-null   float64\n",
      "dtypes: float64(6)\n",
      "memory usage: 114.4 KB\n",
      "None None\n"
     ]
    }
   ],
   "source": [
    "print(amzn.info(), goog.info())"
   ]
  },
  {
   "cell_type": "markdown",
   "id": "b6a50e56",
   "metadata": {},
   "source": [
    "### Filtering using .loc. .iloc, index"
   ]
  },
  {
   "cell_type": "code",
   "execution_count": 9,
   "id": "82a5982b",
   "metadata": {},
   "outputs": [
    {
     "data": {
      "text/plain": [
       "11.71150016784668"
      ]
     },
     "execution_count": 9,
     "metadata": {},
     "output_type": "execute_result"
    }
   ],
   "source": [
    "amzn.loc['20121101','Open']"
   ]
  },
  {
   "cell_type": "markdown",
   "id": "18a8d261",
   "metadata": {},
   "source": [
    "first row, second column. If we want first row , first column, then specify iloc[0,0]"
   ]
  },
  {
   "cell_type": "code",
   "execution_count": 10,
   "id": "167a6e04",
   "metadata": {},
   "outputs": [
    {
     "data": {
      "text/plain": [
       "11.567000389099121"
      ]
     },
     "execution_count": 10,
     "metadata": {},
     "output_type": "execute_result"
    }
   ],
   "source": [
    "amzn.iloc[0,1]"
   ]
  },
  {
   "cell_type": "code",
   "execution_count": 11,
   "id": "a6e92831",
   "metadata": {},
   "outputs": [
    {
     "data": {
      "text/html": [
       "<div>\n",
       "<style scoped>\n",
       "    .dataframe tbody tr th:only-of-type {\n",
       "        vertical-align: middle;\n",
       "    }\n",
       "\n",
       "    .dataframe tbody tr th {\n",
       "        vertical-align: top;\n",
       "    }\n",
       "\n",
       "    .dataframe thead th {\n",
       "        text-align: right;\n",
       "    }\n",
       "</style>\n",
       "<table border=\"1\" class=\"dataframe\">\n",
       "  <thead>\n",
       "    <tr style=\"text-align: right;\">\n",
       "      <th></th>\n",
       "      <th>High</th>\n",
       "      <th>Low</th>\n",
       "      <th>Open</th>\n",
       "      <th>Close</th>\n",
       "      <th>Volume</th>\n",
       "      <th>Adj Close</th>\n",
       "    </tr>\n",
       "    <tr>\n",
       "      <th>Date</th>\n",
       "      <th></th>\n",
       "      <th></th>\n",
       "      <th></th>\n",
       "      <th></th>\n",
       "      <th></th>\n",
       "      <th></th>\n",
       "    </tr>\n",
       "  </thead>\n",
       "  <tbody>\n",
       "    <tr>\n",
       "      <th>2017-11-02</th>\n",
       "      <td>55.097000</td>\n",
       "      <td>54.343498</td>\n",
       "      <td>54.890499</td>\n",
       "      <td>54.710999</td>\n",
       "      <td>73698000.0</td>\n",
       "      <td>54.710999</td>\n",
       "    </tr>\n",
       "    <tr>\n",
       "      <th>2017-11-03</th>\n",
       "      <td>55.633999</td>\n",
       "      <td>54.425999</td>\n",
       "      <td>54.557499</td>\n",
       "      <td>55.580002</td>\n",
       "      <td>75030000.0</td>\n",
       "      <td>55.580002</td>\n",
       "    </tr>\n",
       "    <tr>\n",
       "      <th>2017-11-06</th>\n",
       "      <td>56.270500</td>\n",
       "      <td>55.438499</td>\n",
       "      <td>55.457500</td>\n",
       "      <td>56.033001</td>\n",
       "      <td>67622000.0</td>\n",
       "      <td>56.033001</td>\n",
       "    </tr>\n",
       "    <tr>\n",
       "      <th>2017-11-07</th>\n",
       "      <td>56.529999</td>\n",
       "      <td>55.875000</td>\n",
       "      <td>56.237000</td>\n",
       "      <td>56.158501</td>\n",
       "      <td>53780000.0</td>\n",
       "      <td>56.158501</td>\n",
       "    </tr>\n",
       "    <tr>\n",
       "      <th>2017-11-08</th>\n",
       "      <td>56.777000</td>\n",
       "      <td>55.955502</td>\n",
       "      <td>56.140999</td>\n",
       "      <td>56.644001</td>\n",
       "      <td>51630000.0</td>\n",
       "      <td>56.644001</td>\n",
       "    </tr>\n",
       "    <tr>\n",
       "      <th>...</th>\n",
       "      <td>...</td>\n",
       "      <td>...</td>\n",
       "      <td>...</td>\n",
       "      <td>...</td>\n",
       "      <td>...</td>\n",
       "      <td>...</td>\n",
       "    </tr>\n",
       "    <tr>\n",
       "      <th>2022-07-11</th>\n",
       "      <td>114.300003</td>\n",
       "      <td>110.870003</td>\n",
       "      <td>114.080002</td>\n",
       "      <td>111.750000</td>\n",
       "      <td>53487600.0</td>\n",
       "      <td>111.750000</td>\n",
       "    </tr>\n",
       "    <tr>\n",
       "      <th>2022-07-12</th>\n",
       "      <td>113.230003</td>\n",
       "      <td>108.339996</td>\n",
       "      <td>112.160004</td>\n",
       "      <td>109.220001</td>\n",
       "      <td>54280300.0</td>\n",
       "      <td>109.220001</td>\n",
       "    </tr>\n",
       "    <tr>\n",
       "      <th>2022-07-13</th>\n",
       "      <td>111.779999</td>\n",
       "      <td>106.010002</td>\n",
       "      <td>107.029999</td>\n",
       "      <td>110.400002</td>\n",
       "      <td>61353800.0</td>\n",
       "      <td>110.400002</td>\n",
       "    </tr>\n",
       "    <tr>\n",
       "      <th>2022-07-14</th>\n",
       "      <td>111.180000</td>\n",
       "      <td>107.580002</td>\n",
       "      <td>110.239998</td>\n",
       "      <td>110.629997</td>\n",
       "      <td>51163100.0</td>\n",
       "      <td>110.629997</td>\n",
       "    </tr>\n",
       "    <tr>\n",
       "      <th>2022-07-15</th>\n",
       "      <td>115.589996</td>\n",
       "      <td>111.589996</td>\n",
       "      <td>112.500000</td>\n",
       "      <td>113.550003</td>\n",
       "      <td>83891100.0</td>\n",
       "      <td>113.550003</td>\n",
       "    </tr>\n",
       "  </tbody>\n",
       "</table>\n",
       "<p>1182 rows × 6 columns</p>\n",
       "</div>"
      ],
      "text/plain": [
       "                  High         Low        Open       Close      Volume  \\\n",
       "Date                                                                     \n",
       "2017-11-02   55.097000   54.343498   54.890499   54.710999  73698000.0   \n",
       "2017-11-03   55.633999   54.425999   54.557499   55.580002  75030000.0   \n",
       "2017-11-06   56.270500   55.438499   55.457500   56.033001  67622000.0   \n",
       "2017-11-07   56.529999   55.875000   56.237000   56.158501  53780000.0   \n",
       "2017-11-08   56.777000   55.955502   56.140999   56.644001  51630000.0   \n",
       "...                ...         ...         ...         ...         ...   \n",
       "2022-07-11  114.300003  110.870003  114.080002  111.750000  53487600.0   \n",
       "2022-07-12  113.230003  108.339996  112.160004  109.220001  54280300.0   \n",
       "2022-07-13  111.779999  106.010002  107.029999  110.400002  61353800.0   \n",
       "2022-07-14  111.180000  107.580002  110.239998  110.629997  51163100.0   \n",
       "2022-07-15  115.589996  111.589996  112.500000  113.550003  83891100.0   \n",
       "\n",
       "             Adj Close  \n",
       "Date                    \n",
       "2017-11-02   54.710999  \n",
       "2017-11-03   55.580002  \n",
       "2017-11-06   56.033001  \n",
       "2017-11-07   56.158501  \n",
       "2017-11-08   56.644001  \n",
       "...                ...  \n",
       "2022-07-11  111.750000  \n",
       "2022-07-12  109.220001  \n",
       "2022-07-13  110.400002  \n",
       "2022-07-14  110.629997  \n",
       "2022-07-15  113.550003  \n",
       "\n",
       "[1182 rows x 6 columns]"
      ]
     },
     "execution_count": 11,
     "metadata": {},
     "output_type": "execute_result"
    }
   ],
   "source": [
    "amzn[amzn.index > '2017-11-01']"
   ]
  },
  {
   "cell_type": "code",
   "execution_count": null,
   "id": "cacf7ebe",
   "metadata": {},
   "outputs": [],
   "source": []
  },
  {
   "cell_type": "markdown",
   "id": "e33723af",
   "metadata": {},
   "source": [
    "### Filtering with Criteria"
   ]
  },
  {
   "cell_type": "code",
   "execution_count": 13,
   "id": "4e28b315",
   "metadata": {},
   "outputs": [
    {
     "name": "stdout",
     "output_type": "stream",
     "text": [
      "Mean: 80470343.202, Std: 42506074.224\n"
     ]
    }
   ],
   "source": [
    "print('Mean: %.3f, Std: %.3f'% (amzn['Volume'].mean(),amzn['Volume'].std()))"
   ]
  },
  {
   "cell_type": "code",
   "execution_count": 15,
   "id": "a1dde83d",
   "metadata": {},
   "outputs": [],
   "source": [
    "high = amzn['Volume'].mean() + 2*  amzn['Volume'].std()"
   ]
  },
  {
   "cell_type": "code",
   "execution_count": 16,
   "id": "ff708b4c",
   "metadata": {},
   "outputs": [
    {
     "data": {
      "text/html": [
       "<div>\n",
       "<style scoped>\n",
       "    .dataframe tbody tr th:only-of-type {\n",
       "        vertical-align: middle;\n",
       "    }\n",
       "\n",
       "    .dataframe tbody tr th {\n",
       "        vertical-align: top;\n",
       "    }\n",
       "\n",
       "    .dataframe thead th {\n",
       "        text-align: right;\n",
       "    }\n",
       "</style>\n",
       "<table border=\"1\" class=\"dataframe\">\n",
       "  <thead>\n",
       "    <tr style=\"text-align: right;\">\n",
       "      <th></th>\n",
       "      <th>High</th>\n",
       "      <th>Low</th>\n",
       "      <th>Open</th>\n",
       "      <th>Close</th>\n",
       "      <th>Volume</th>\n",
       "      <th>Adj Close</th>\n",
       "    </tr>\n",
       "    <tr>\n",
       "      <th>Date</th>\n",
       "      <th></th>\n",
       "      <th></th>\n",
       "      <th></th>\n",
       "      <th></th>\n",
       "      <th></th>\n",
       "      <th></th>\n",
       "    </tr>\n",
       "  </thead>\n",
       "  <tbody>\n",
       "    <tr>\n",
       "      <th>2013-01-29</th>\n",
       "      <td>13.773000</td>\n",
       "      <td>12.917500</td>\n",
       "      <td>13.767500</td>\n",
       "      <td>13.017500</td>\n",
       "      <td>203452000.0</td>\n",
       "      <td>13.017500</td>\n",
       "    </tr>\n",
       "    <tr>\n",
       "      <th>2013-01-30</th>\n",
       "      <td>14.210000</td>\n",
       "      <td>13.355500</td>\n",
       "      <td>14.150000</td>\n",
       "      <td>13.638000</td>\n",
       "      <td>261508000.0</td>\n",
       "      <td>13.638000</td>\n",
       "    </tr>\n",
       "    <tr>\n",
       "      <th>2013-04-26</th>\n",
       "      <td>13.601000</td>\n",
       "      <td>12.640500</td>\n",
       "      <td>13.498500</td>\n",
       "      <td>12.740500</td>\n",
       "      <td>280600000.0</td>\n",
       "      <td>12.740500</td>\n",
       "    </tr>\n",
       "    <tr>\n",
       "      <th>2013-07-26</th>\n",
       "      <td>15.681000</td>\n",
       "      <td>14.777500</td>\n",
       "      <td>14.977500</td>\n",
       "      <td>15.600500</td>\n",
       "      <td>176350000.0</td>\n",
       "      <td>15.600500</td>\n",
       "    </tr>\n",
       "    <tr>\n",
       "      <th>2013-10-25</th>\n",
       "      <td>18.420000</td>\n",
       "      <td>17.631001</td>\n",
       "      <td>17.930000</td>\n",
       "      <td>18.169500</td>\n",
       "      <td>240736000.0</td>\n",
       "      <td>18.169500</td>\n",
       "    </tr>\n",
       "    <tr>\n",
       "      <th>...</th>\n",
       "      <td>...</td>\n",
       "      <td>...</td>\n",
       "      <td>...</td>\n",
       "      <td>...</td>\n",
       "      <td>...</td>\n",
       "      <td>...</td>\n",
       "    </tr>\n",
       "    <tr>\n",
       "      <th>2020-10-30</th>\n",
       "      <td>158.350006</td>\n",
       "      <td>150.949997</td>\n",
       "      <td>157.887497</td>\n",
       "      <td>151.807495</td>\n",
       "      <td>167728000.0</td>\n",
       "      <td>151.807495</td>\n",
       "    </tr>\n",
       "    <tr>\n",
       "      <th>2021-07-30</th>\n",
       "      <td>168.406998</td>\n",
       "      <td>165.348999</td>\n",
       "      <td>167.397507</td>\n",
       "      <td>166.379501</td>\n",
       "      <td>199312000.0</td>\n",
       "      <td>166.379501</td>\n",
       "    </tr>\n",
       "    <tr>\n",
       "      <th>2022-02-03</th>\n",
       "      <td>144.247498</td>\n",
       "      <td>138.332993</td>\n",
       "      <td>141.737503</td>\n",
       "      <td>138.845505</td>\n",
       "      <td>225532000.0</td>\n",
       "      <td>138.845505</td>\n",
       "    </tr>\n",
       "    <tr>\n",
       "      <th>2022-02-04</th>\n",
       "      <td>161.199997</td>\n",
       "      <td>150.608002</td>\n",
       "      <td>155.606506</td>\n",
       "      <td>157.639496</td>\n",
       "      <td>253456000.0</td>\n",
       "      <td>157.639496</td>\n",
       "    </tr>\n",
       "    <tr>\n",
       "      <th>2022-04-29</th>\n",
       "      <td>130.761002</td>\n",
       "      <td>121.625000</td>\n",
       "      <td>129.848999</td>\n",
       "      <td>124.281502</td>\n",
       "      <td>272662000.0</td>\n",
       "      <td>124.281502</td>\n",
       "    </tr>\n",
       "  </tbody>\n",
       "</table>\n",
       "<p>104 rows × 6 columns</p>\n",
       "</div>"
      ],
      "text/plain": [
       "                  High         Low        Open       Close       Volume  \\\n",
       "Date                                                                      \n",
       "2013-01-29   13.773000   12.917500   13.767500   13.017500  203452000.0   \n",
       "2013-01-30   14.210000   13.355500   14.150000   13.638000  261508000.0   \n",
       "2013-04-26   13.601000   12.640500   13.498500   12.740500  280600000.0   \n",
       "2013-07-26   15.681000   14.777500   14.977500   15.600500  176350000.0   \n",
       "2013-10-25   18.420000   17.631001   17.930000   18.169500  240736000.0   \n",
       "...                ...         ...         ...         ...          ...   \n",
       "2020-10-30  158.350006  150.949997  157.887497  151.807495  167728000.0   \n",
       "2021-07-30  168.406998  165.348999  167.397507  166.379501  199312000.0   \n",
       "2022-02-03  144.247498  138.332993  141.737503  138.845505  225532000.0   \n",
       "2022-02-04  161.199997  150.608002  155.606506  157.639496  253456000.0   \n",
       "2022-04-29  130.761002  121.625000  129.848999  124.281502  272662000.0   \n",
       "\n",
       "             Adj Close  \n",
       "Date                    \n",
       "2013-01-29   13.017500  \n",
       "2013-01-30   13.638000  \n",
       "2013-04-26   12.740500  \n",
       "2013-07-26   15.600500  \n",
       "2013-10-25   18.169500  \n",
       "...                ...  \n",
       "2020-10-30  151.807495  \n",
       "2021-07-30  166.379501  \n",
       "2022-02-03  138.845505  \n",
       "2022-02-04  157.639496  \n",
       "2022-04-29  124.281502  \n",
       "\n",
       "[104 rows x 6 columns]"
      ]
     },
     "execution_count": 16,
     "metadata": {},
     "output_type": "execute_result"
    }
   ],
   "source": [
    "amzn[amzn.Volume >high]"
   ]
  },
  {
   "cell_type": "code",
   "execution_count": 17,
   "id": "c271801a",
   "metadata": {},
   "outputs": [
    {
     "data": {
      "text/plain": [
       "104"
      ]
     },
     "execution_count": 17,
     "metadata": {},
     "output_type": "execute_result"
    }
   ],
   "source": [
    "len(amzn[amzn.Volume >high])"
   ]
  },
  {
   "cell_type": "code",
   "execution_count": 18,
   "id": "ffdc0315",
   "metadata": {},
   "outputs": [
    {
     "data": {
      "text/plain": [
       "0.042588042588042586"
      ]
     },
     "execution_count": 18,
     "metadata": {},
     "output_type": "execute_result"
    }
   ],
   "source": [
    "len(amzn[amzn.Volume >high]) / len(amzn)"
   ]
  },
  {
   "cell_type": "markdown",
   "id": "0fc7b12d",
   "metadata": {},
   "source": [
    "### Adding Columns"
   ]
  },
  {
   "cell_type": "code",
   "execution_count": 19,
   "id": "4dec85da",
   "metadata": {},
   "outputs": [],
   "source": [
    "amzn['pct_change'] = amzn.Close.pct_change()\n"
   ]
  },
  {
   "cell_type": "code",
   "execution_count": 20,
   "id": "4deba73e",
   "metadata": {},
   "outputs": [
    {
     "data": {
      "text/html": [
       "<div>\n",
       "<style scoped>\n",
       "    .dataframe tbody tr th:only-of-type {\n",
       "        vertical-align: middle;\n",
       "    }\n",
       "\n",
       "    .dataframe tbody tr th {\n",
       "        vertical-align: top;\n",
       "    }\n",
       "\n",
       "    .dataframe thead th {\n",
       "        text-align: right;\n",
       "    }\n",
       "</style>\n",
       "<table border=\"1\" class=\"dataframe\">\n",
       "  <thead>\n",
       "    <tr style=\"text-align: right;\">\n",
       "      <th></th>\n",
       "      <th>High</th>\n",
       "      <th>Low</th>\n",
       "      <th>Open</th>\n",
       "      <th>Close</th>\n",
       "      <th>Volume</th>\n",
       "      <th>Adj Close</th>\n",
       "      <th>pct_change</th>\n",
       "    </tr>\n",
       "    <tr>\n",
       "      <th>Date</th>\n",
       "      <th></th>\n",
       "      <th></th>\n",
       "      <th></th>\n",
       "      <th></th>\n",
       "      <th></th>\n",
       "      <th></th>\n",
       "      <th></th>\n",
       "    </tr>\n",
       "  </thead>\n",
       "  <tbody>\n",
       "    <tr>\n",
       "      <th>2012-11-01</th>\n",
       "      <td>11.7275</td>\n",
       "      <td>11.5670</td>\n",
       "      <td>11.7115</td>\n",
       "      <td>11.6070</td>\n",
       "      <td>78102000.0</td>\n",
       "      <td>11.6070</td>\n",
       "      <td>NaN</td>\n",
       "    </tr>\n",
       "    <tr>\n",
       "      <th>2012-11-02</th>\n",
       "      <td>11.8700</td>\n",
       "      <td>11.6055</td>\n",
       "      <td>11.7005</td>\n",
       "      <td>11.6210</td>\n",
       "      <td>67494000.0</td>\n",
       "      <td>11.6210</td>\n",
       "      <td>0.001206</td>\n",
       "    </tr>\n",
       "    <tr>\n",
       "      <th>2012-11-05</th>\n",
       "      <td>11.7415</td>\n",
       "      <td>11.5055</td>\n",
       "      <td>11.6020</td>\n",
       "      <td>11.7165</td>\n",
       "      <td>36922000.0</td>\n",
       "      <td>11.7165</td>\n",
       "      <td>0.008218</td>\n",
       "    </tr>\n",
       "    <tr>\n",
       "      <th>2012-11-06</th>\n",
       "      <td>11.8875</td>\n",
       "      <td>11.7225</td>\n",
       "      <td>11.7705</td>\n",
       "      <td>11.8780</td>\n",
       "      <td>53226000.0</td>\n",
       "      <td>11.8780</td>\n",
       "      <td>0.013784</td>\n",
       "    </tr>\n",
       "    <tr>\n",
       "      <th>2012-11-07</th>\n",
       "      <td>11.7830</td>\n",
       "      <td>11.4710</td>\n",
       "      <td>11.7825</td>\n",
       "      <td>11.6030</td>\n",
       "      <td>72484000.0</td>\n",
       "      <td>11.6030</td>\n",
       "      <td>-0.023152</td>\n",
       "    </tr>\n",
       "  </tbody>\n",
       "</table>\n",
       "</div>"
      ],
      "text/plain": [
       "               High      Low     Open    Close      Volume  Adj Close  \\\n",
       "Date                                                                    \n",
       "2012-11-01  11.7275  11.5670  11.7115  11.6070  78102000.0    11.6070   \n",
       "2012-11-02  11.8700  11.6055  11.7005  11.6210  67494000.0    11.6210   \n",
       "2012-11-05  11.7415  11.5055  11.6020  11.7165  36922000.0    11.7165   \n",
       "2012-11-06  11.8875  11.7225  11.7705  11.8780  53226000.0    11.8780   \n",
       "2012-11-07  11.7830  11.4710  11.7825  11.6030  72484000.0    11.6030   \n",
       "\n",
       "            pct_change  \n",
       "Date                    \n",
       "2012-11-01         NaN  \n",
       "2012-11-02    0.001206  \n",
       "2012-11-05    0.008218  \n",
       "2012-11-06    0.013784  \n",
       "2012-11-07   -0.023152  "
      ]
     },
     "execution_count": 20,
     "metadata": {},
     "output_type": "execute_result"
    }
   ],
   "source": [
    "amzn.head()"
   ]
  },
  {
   "cell_type": "code",
   "execution_count": null,
   "id": "c7565465",
   "metadata": {},
   "outputs": [],
   "source": []
  },
  {
   "cell_type": "markdown",
   "id": "99266f97",
   "metadata": {},
   "source": [
    "### Appending Data"
   ]
  },
  {
   "cell_type": "code",
   "execution_count": 21,
   "id": "bf380322",
   "metadata": {},
   "outputs": [],
   "source": [
    "goog_11 = goog.loc['2017-11']\n",
    "amzn_11 = amzn.loc['2017-11']"
   ]
  },
  {
   "cell_type": "markdown",
   "id": "63ff262f",
   "metadata": {},
   "source": [
    "****Video advises append function. however, when i used that i get a warning that it is been depracated. So used pd.concat. (as of 2022-07-18)"
   ]
  },
  {
   "cell_type": "code",
   "execution_count": 26,
   "id": "8934e799",
   "metadata": {},
   "outputs": [
    {
     "data": {
      "text/html": [
       "<div>\n",
       "<style scoped>\n",
       "    .dataframe tbody tr th:only-of-type {\n",
       "        vertical-align: middle;\n",
       "    }\n",
       "\n",
       "    .dataframe tbody tr th {\n",
       "        vertical-align: top;\n",
       "    }\n",
       "\n",
       "    .dataframe thead th {\n",
       "        text-align: right;\n",
       "    }\n",
       "</style>\n",
       "<table border=\"1\" class=\"dataframe\">\n",
       "  <thead>\n",
       "    <tr style=\"text-align: right;\">\n",
       "      <th></th>\n",
       "      <th>High</th>\n",
       "      <th>Low</th>\n",
       "      <th>Open</th>\n",
       "      <th>Close</th>\n",
       "      <th>Volume</th>\n",
       "      <th>Adj Close</th>\n",
       "      <th>pct_change</th>\n",
       "    </tr>\n",
       "    <tr>\n",
       "      <th>Date</th>\n",
       "      <th></th>\n",
       "      <th></th>\n",
       "      <th></th>\n",
       "      <th></th>\n",
       "      <th></th>\n",
       "      <th></th>\n",
       "      <th></th>\n",
       "    </tr>\n",
       "  </thead>\n",
       "  <tbody>\n",
       "    <tr>\n",
       "      <th>2017-11-01</th>\n",
       "      <td>51.483501</td>\n",
       "      <td>50.847500</td>\n",
       "      <td>50.860500</td>\n",
       "      <td>51.275002</td>\n",
       "      <td>27468880.0</td>\n",
       "      <td>51.275002</td>\n",
       "      <td>NaN</td>\n",
       "    </tr>\n",
       "    <tr>\n",
       "      <th>2017-11-02</th>\n",
       "      <td>51.404499</td>\n",
       "      <td>50.650501</td>\n",
       "      <td>51.088001</td>\n",
       "      <td>51.278999</td>\n",
       "      <td>20979400.0</td>\n",
       "      <td>51.278999</td>\n",
       "      <td>NaN</td>\n",
       "    </tr>\n",
       "    <tr>\n",
       "      <th>2017-11-03</th>\n",
       "      <td>51.632500</td>\n",
       "      <td>51.015499</td>\n",
       "      <td>51.105499</td>\n",
       "      <td>51.624001</td>\n",
       "      <td>21527000.0</td>\n",
       "      <td>51.624001</td>\n",
       "      <td>NaN</td>\n",
       "    </tr>\n",
       "    <tr>\n",
       "      <th>2017-11-06</th>\n",
       "      <td>51.743500</td>\n",
       "      <td>51.250000</td>\n",
       "      <td>51.449501</td>\n",
       "      <td>51.294998</td>\n",
       "      <td>22503700.0</td>\n",
       "      <td>51.294998</td>\n",
       "      <td>NaN</td>\n",
       "    </tr>\n",
       "    <tr>\n",
       "      <th>2017-11-07</th>\n",
       "      <td>51.698502</td>\n",
       "      <td>51.256500</td>\n",
       "      <td>51.363499</td>\n",
       "      <td>51.666500</td>\n",
       "      <td>22246620.0</td>\n",
       "      <td>51.666500</td>\n",
       "      <td>NaN</td>\n",
       "    </tr>\n",
       "  </tbody>\n",
       "</table>\n",
       "</div>"
      ],
      "text/plain": [
       "                 High        Low       Open      Close      Volume  Adj Close  \\\n",
       "Date                                                                            \n",
       "2017-11-01  51.483501  50.847500  50.860500  51.275002  27468880.0  51.275002   \n",
       "2017-11-02  51.404499  50.650501  51.088001  51.278999  20979400.0  51.278999   \n",
       "2017-11-03  51.632500  51.015499  51.105499  51.624001  21527000.0  51.624001   \n",
       "2017-11-06  51.743500  51.250000  51.449501  51.294998  22503700.0  51.294998   \n",
       "2017-11-07  51.698502  51.256500  51.363499  51.666500  22246620.0  51.666500   \n",
       "\n",
       "            pct_change  \n",
       "Date                    \n",
       "2017-11-01         NaN  \n",
       "2017-11-02         NaN  \n",
       "2017-11-03         NaN  \n",
       "2017-11-06         NaN  \n",
       "2017-11-07         NaN  "
      ]
     },
     "execution_count": 26,
     "metadata": {},
     "output_type": "execute_result"
    }
   ],
   "source": [
    "pd.concat([goog_11,amzn_11]).head()"
   ]
  },
  {
   "cell_type": "markdown",
   "id": "bde0bbd6",
   "metadata": {},
   "source": [
    "goog observations shows NaN for pct_change  as we did this only for amzn. "
   ]
  },
  {
   "cell_type": "code",
   "execution_count": 27,
   "id": "5ec8e113",
   "metadata": {},
   "outputs": [
    {
     "name": "stdout",
     "output_type": "stream",
     "text": [
      "<class 'pandas.core.frame.DataFrame'>\n",
      "DatetimeIndex: 42 entries, 2017-11-01 to 2017-11-30\n",
      "Data columns (total 7 columns):\n",
      " #   Column      Non-Null Count  Dtype  \n",
      "---  ------      --------------  -----  \n",
      " 0   High        42 non-null     float64\n",
      " 1   Low         42 non-null     float64\n",
      " 2   Open        42 non-null     float64\n",
      " 3   Close       42 non-null     float64\n",
      " 4   Volume      42 non-null     float64\n",
      " 5   Adj Close   42 non-null     float64\n",
      " 6   pct_change  21 non-null     float64\n",
      "dtypes: float64(7)\n",
      "memory usage: 2.6 KB\n"
     ]
    }
   ],
   "source": [
    "pd.concat([goog_11,amzn_11]).info()"
   ]
  },
  {
   "cell_type": "markdown",
   "id": "7247bcae",
   "metadata": {},
   "source": [
    "Observe that half the records are null for pct_change. Those null values are from goog"
   ]
  },
  {
   "cell_type": "code",
   "execution_count": 29,
   "id": "f28bf8ed",
   "metadata": {},
   "outputs": [
    {
     "data": {
      "text/html": [
       "<div>\n",
       "<style scoped>\n",
       "    .dataframe tbody tr th:only-of-type {\n",
       "        vertical-align: middle;\n",
       "    }\n",
       "\n",
       "    .dataframe tbody tr th {\n",
       "        vertical-align: top;\n",
       "    }\n",
       "\n",
       "    .dataframe thead th {\n",
       "        text-align: right;\n",
       "    }\n",
       "</style>\n",
       "<table border=\"1\" class=\"dataframe\">\n",
       "  <thead>\n",
       "    <tr style=\"text-align: right;\">\n",
       "      <th></th>\n",
       "      <th>High</th>\n",
       "      <th>Low</th>\n",
       "      <th>Open</th>\n",
       "      <th>Close</th>\n",
       "      <th>Volume</th>\n",
       "      <th>Adj Close</th>\n",
       "      <th>pct_change</th>\n",
       "    </tr>\n",
       "    <tr>\n",
       "      <th>Date</th>\n",
       "      <th></th>\n",
       "      <th></th>\n",
       "      <th></th>\n",
       "      <th></th>\n",
       "      <th></th>\n",
       "      <th></th>\n",
       "      <th></th>\n",
       "    </tr>\n",
       "  </thead>\n",
       "  <tbody>\n",
       "    <tr>\n",
       "      <th>2017-11-24</th>\n",
       "      <td>59.341999</td>\n",
       "      <td>58.035000</td>\n",
       "      <td>58.035000</td>\n",
       "      <td>59.299999</td>\n",
       "      <td>70560000.0</td>\n",
       "      <td>59.299999</td>\n",
       "      <td>0.025810</td>\n",
       "    </tr>\n",
       "    <tr>\n",
       "      <th>2017-11-27</th>\n",
       "      <td>60.670502</td>\n",
       "      <td>59.557499</td>\n",
       "      <td>60.132999</td>\n",
       "      <td>59.791500</td>\n",
       "      <td>134880000.0</td>\n",
       "      <td>59.791500</td>\n",
       "      <td>0.008288</td>\n",
       "    </tr>\n",
       "    <tr>\n",
       "      <th>2017-11-28</th>\n",
       "      <td>60.266998</td>\n",
       "      <td>59.425999</td>\n",
       "      <td>60.243999</td>\n",
       "      <td>59.680000</td>\n",
       "      <td>91188000.0</td>\n",
       "      <td>59.680000</td>\n",
       "      <td>-0.001865</td>\n",
       "    </tr>\n",
       "    <tr>\n",
       "      <th>2017-11-29</th>\n",
       "      <td>59.740002</td>\n",
       "      <td>57.259499</td>\n",
       "      <td>59.740002</td>\n",
       "      <td>58.063499</td>\n",
       "      <td>185150000.0</td>\n",
       "      <td>58.063499</td>\n",
       "      <td>-0.027086</td>\n",
       "    </tr>\n",
       "    <tr>\n",
       "      <th>2017-11-30</th>\n",
       "      <td>58.928501</td>\n",
       "      <td>58.000000</td>\n",
       "      <td>58.355000</td>\n",
       "      <td>58.837502</td>\n",
       "      <td>90184000.0</td>\n",
       "      <td>58.837502</td>\n",
       "      <td>0.013330</td>\n",
       "    </tr>\n",
       "  </tbody>\n",
       "</table>\n",
       "</div>"
      ],
      "text/plain": [
       "                 High        Low       Open      Close       Volume  \\\n",
       "Date                                                                  \n",
       "2017-11-24  59.341999  58.035000  58.035000  59.299999   70560000.0   \n",
       "2017-11-27  60.670502  59.557499  60.132999  59.791500  134880000.0   \n",
       "2017-11-28  60.266998  59.425999  60.243999  59.680000   91188000.0   \n",
       "2017-11-29  59.740002  57.259499  59.740002  58.063499  185150000.0   \n",
       "2017-11-30  58.928501  58.000000  58.355000  58.837502   90184000.0   \n",
       "\n",
       "            Adj Close  pct_change  \n",
       "Date                               \n",
       "2017-11-24  59.299999    0.025810  \n",
       "2017-11-27  59.791500    0.008288  \n",
       "2017-11-28  59.680000   -0.001865  \n",
       "2017-11-29  58.063499   -0.027086  \n",
       "2017-11-30  58.837502    0.013330  "
      ]
     },
     "execution_count": 29,
     "metadata": {},
     "output_type": "execute_result"
    }
   ],
   "source": [
    "pd.concat([goog_11,amzn_11]).tail() # to see the amzn non-null values, run this"
   ]
  },
  {
   "cell_type": "markdown",
   "id": "de0262aa",
   "metadata": {},
   "source": [
    "### Merging Columns with different dataframes"
   ]
  },
  {
   "cell_type": "code",
   "execution_count": 32,
   "id": "b2a214ec",
   "metadata": {},
   "outputs": [
    {
     "data": {
      "text/html": [
       "<div>\n",
       "<style scoped>\n",
       "    .dataframe tbody tr th:only-of-type {\n",
       "        vertical-align: middle;\n",
       "    }\n",
       "\n",
       "    .dataframe tbody tr th {\n",
       "        vertical-align: top;\n",
       "    }\n",
       "\n",
       "    .dataframe thead th {\n",
       "        text-align: right;\n",
       "    }\n",
       "</style>\n",
       "<table border=\"1\" class=\"dataframe\">\n",
       "  <thead>\n",
       "    <tr style=\"text-align: right;\">\n",
       "      <th></th>\n",
       "      <th>AMZN</th>\n",
       "      <th>GOOG</th>\n",
       "    </tr>\n",
       "    <tr>\n",
       "      <th>Date</th>\n",
       "      <th></th>\n",
       "      <th></th>\n",
       "    </tr>\n",
       "  </thead>\n",
       "  <tbody>\n",
       "    <tr>\n",
       "      <th>2022-07-11</th>\n",
       "      <td>111.750000</td>\n",
       "      <td>116.522499</td>\n",
       "    </tr>\n",
       "    <tr>\n",
       "      <th>2022-07-12</th>\n",
       "      <td>109.220001</td>\n",
       "      <td>114.849503</td>\n",
       "    </tr>\n",
       "    <tr>\n",
       "      <th>2022-07-13</th>\n",
       "      <td>110.400002</td>\n",
       "      <td>112.186996</td>\n",
       "    </tr>\n",
       "    <tr>\n",
       "      <th>2022-07-14</th>\n",
       "      <td>110.629997</td>\n",
       "      <td>111.440002</td>\n",
       "    </tr>\n",
       "    <tr>\n",
       "      <th>2022-07-15</th>\n",
       "      <td>113.550003</td>\n",
       "      <td>112.766998</td>\n",
       "    </tr>\n",
       "  </tbody>\n",
       "</table>\n",
       "</div>"
      ],
      "text/plain": [
       "                  AMZN        GOOG\n",
       "Date                              \n",
       "2022-07-11  111.750000  116.522499\n",
       "2022-07-12  109.220001  114.849503\n",
       "2022-07-13  110.400002  112.186996\n",
       "2022-07-14  110.629997  111.440002\n",
       "2022-07-15  113.550003  112.766998"
      ]
     },
     "execution_count": 32,
     "metadata": {},
     "output_type": "execute_result"
    }
   ],
   "source": [
    "close = pd.DataFrame({'AMZN': amzn.Close,'GOOG': goog.Close}) #dictionary is required\n",
    "close.head()\n",
    "close.tail()"
   ]
  },
  {
   "cell_type": "markdown",
   "id": "fa5c17ab",
   "metadata": {},
   "source": [
    "### Grouping and Sorting Data"
   ]
  },
  {
   "cell_type": "code",
   "execution_count": 34,
   "id": "2a8af591",
   "metadata": {},
   "outputs": [
    {
     "data": {
      "text/html": [
       "<div>\n",
       "<style scoped>\n",
       "    .dataframe tbody tr th:only-of-type {\n",
       "        vertical-align: middle;\n",
       "    }\n",
       "\n",
       "    .dataframe tbody tr th {\n",
       "        vertical-align: top;\n",
       "    }\n",
       "\n",
       "    .dataframe thead th {\n",
       "        text-align: right;\n",
       "    }\n",
       "</style>\n",
       "<table border=\"1\" class=\"dataframe\">\n",
       "  <thead>\n",
       "    <tr style=\"text-align: right;\">\n",
       "      <th></th>\n",
       "      <th>High</th>\n",
       "      <th>Low</th>\n",
       "      <th>Close</th>\n",
       "      <th>Volume</th>\n",
       "      <th>Adj Close</th>\n",
       "    </tr>\n",
       "    <tr>\n",
       "      <th>Open</th>\n",
       "      <th></th>\n",
       "      <th></th>\n",
       "      <th></th>\n",
       "      <th></th>\n",
       "      <th></th>\n",
       "    </tr>\n",
       "  </thead>\n",
       "  <tbody>\n",
       "    <tr>\n",
       "      <th>24.664795</th>\n",
       "      <td>25.092621</td>\n",
       "      <td>24.582520</td>\n",
       "      <td>24.974943</td>\n",
       "      <td>44715167.0</td>\n",
       "      <td>24.974943</td>\n",
       "    </tr>\n",
       "    <tr>\n",
       "      <th>24.682247</th>\n",
       "      <td>24.730913</td>\n",
       "      <td>24.311266</td>\n",
       "      <td>24.560081</td>\n",
       "      <td>46536312.0</td>\n",
       "      <td>24.560081</td>\n",
       "    </tr>\n",
       "    <tr>\n",
       "      <th>24.781973</th>\n",
       "      <td>25.280603</td>\n",
       "      <td>24.772499</td>\n",
       "      <td>25.175392</td>\n",
       "      <td>57663472.0</td>\n",
       "      <td>25.175392</td>\n",
       "    </tr>\n",
       "    <tr>\n",
       "      <th>24.831337</th>\n",
       "      <td>25.105085</td>\n",
       "      <td>24.482794</td>\n",
       "      <td>25.065195</td>\n",
       "      <td>67071507.0</td>\n",
       "      <td>25.065195</td>\n",
       "    </tr>\n",
       "    <tr>\n",
       "      <th>24.873720</th>\n",
       "      <td>25.080154</td>\n",
       "      <td>24.552105</td>\n",
       "      <td>24.741085</td>\n",
       "      <td>47443616.0</td>\n",
       "      <td>24.741085</td>\n",
       "    </tr>\n",
       "    <tr>\n",
       "      <th>...</th>\n",
       "      <td>...</td>\n",
       "      <td>...</td>\n",
       "      <td>...</td>\n",
       "      <td>...</td>\n",
       "      <td>...</td>\n",
       "    </tr>\n",
       "    <tr>\n",
       "      <th>149.746002</th>\n",
       "      <td>150.378494</td>\n",
       "      <td>147.507004</td>\n",
       "      <td>149.248505</td>\n",
       "      <td>16875560.0</td>\n",
       "      <td>149.248505</td>\n",
       "    </tr>\n",
       "    <tr>\n",
       "      <th>150.000000</th>\n",
       "      <td>301.511505</td>\n",
       "      <td>297.772491</td>\n",
       "      <td>298.739502</td>\n",
       "      <td>34635480.0</td>\n",
       "      <td>298.739502</td>\n",
       "    </tr>\n",
       "    <tr>\n",
       "      <th>150.141754</th>\n",
       "      <td>150.744507</td>\n",
       "      <td>147.005493</td>\n",
       "      <td>147.078506</td>\n",
       "      <td>24627700.0</td>\n",
       "      <td>147.078506</td>\n",
       "    </tr>\n",
       "    <tr>\n",
       "      <th>151.000000</th>\n",
       "      <td>151.850006</td>\n",
       "      <td>149.887497</td>\n",
       "      <td>149.952499</td>\n",
       "      <td>19782960.0</td>\n",
       "      <td>149.952499</td>\n",
       "    </tr>\n",
       "    <tr>\n",
       "      <th>151.863495</th>\n",
       "      <td>152.100006</td>\n",
       "      <td>145.557510</td>\n",
       "      <td>148.036499</td>\n",
       "      <td>89750760.0</td>\n",
       "      <td>148.036499</td>\n",
       "    </tr>\n",
       "  </tbody>\n",
       "</table>\n",
       "<p>2042 rows × 5 columns</p>\n",
       "</div>"
      ],
      "text/plain": [
       "                  High         Low       Close      Volume   Adj Close\n",
       "Open                                                                  \n",
       "24.664795    25.092621   24.582520   24.974943  44715167.0   24.974943\n",
       "24.682247    24.730913   24.311266   24.560081  46536312.0   24.560081\n",
       "24.781973    25.280603   24.772499   25.175392  57663472.0   25.175392\n",
       "24.831337    25.105085   24.482794   25.065195  67071507.0   25.065195\n",
       "24.873720    25.080154   24.552105   24.741085  47443616.0   24.741085\n",
       "...                ...         ...         ...         ...         ...\n",
       "149.746002  150.378494  147.507004  149.248505  16875560.0  149.248505\n",
       "150.000000  301.511505  297.772491  298.739502  34635480.0  298.739502\n",
       "150.141754  150.744507  147.005493  147.078506  24627700.0  147.078506\n",
       "151.000000  151.850006  149.887497  149.952499  19782960.0  149.952499\n",
       "151.863495  152.100006  145.557510  148.036499  89750760.0  148.036499\n",
       "\n",
       "[2042 rows x 5 columns]"
      ]
     },
     "execution_count": 34,
     "metadata": {},
     "output_type": "execute_result"
    }
   ],
   "source": [
    "goog.groupby(['Open']).sum() # provide a list. grouping is done in ascending order"
   ]
  },
  {
   "cell_type": "markdown",
   "id": "231a8554",
   "metadata": {},
   "source": [
    "#### Using the resample method. used Mean() aggregate function "
   ]
  },
  {
   "cell_type": "code",
   "execution_count": 35,
   "id": "144d264b",
   "metadata": {},
   "outputs": [
    {
     "data": {
      "text/plain": [
       "Date\n",
       "2017-01-31    3.333282e+07\n",
       "2017-02-28    2.704160e+07\n",
       "2017-03-31    2.942638e+07\n",
       "2017-04-30    2.654581e+07\n",
       "2017-05-31    2.926389e+07\n",
       "                  ...     \n",
       "2022-03-31    2.771593e+07\n",
       "2022-04-30    2.824728e+07\n",
       "2022-05-31    3.416595e+07\n",
       "2022-06-30    2.986503e+07\n",
       "2022-07-31    3.145136e+07\n",
       "Freq: M, Name: Volume, Length: 67, dtype: float64"
      ]
     },
     "execution_count": 35,
     "metadata": {},
     "output_type": "execute_result"
    }
   ],
   "source": [
    "goog['Volume'][goog.index > '2017'].resample('M').mean()# look at Volume, slice it ... look for Index and 2017.  instead of groupby, using resample by month "
   ]
  },
  {
   "cell_type": "code",
   "execution_count": 37,
   "id": "14a5baa8",
   "metadata": {},
   "outputs": [
    {
     "data": {
      "text/plain": [
       "<AxesSubplot:xlabel='Date'>"
      ]
     },
     "execution_count": 37,
     "metadata": {},
     "output_type": "execute_result"
    },
    {
     "data": {
      "image/png": "[encoded data removed]",
      "text/plain": [
       "<Figure size 432x288 with 1 Axes>"
      ]
     },
     "metadata": {
      "needs_background": "light"
     },
     "output_type": "display_data"
    }
   ],
   "source": [
    "goog['Volume'][goog.index > '2017'].resample('M').mean().plot()"
   ]
  },
  {
   "cell_type": "markdown",
   "id": "21bd5d80",
   "metadata": {},
   "source": [
    "#### References:\n",
    "\n",
    "As a student of Springboard,  followed Mart Macarty video - 'Essential Introduction to Pandas Dataframe'"
   ]
  },
  {
   "cell_type": "markdown",
   "id": "b2b68ebb",
   "metadata": {},
   "source": [
    "### Cumulative Sum and rolling calculations (Data tranformation)"
   ]
  },
  {
   "cell_type": "code",
   "execution_count": 39,
   "id": "2c18b63b",
   "metadata": {},
   "outputs": [],
   "source": [
    "amzn_change = np.log(amzn.Close / amzn.Close.shift(1))\n",
    "goog_change = np.log(goog.Close / goog.Close.shift(1))"
   ]
  },
  {
   "cell_type": "code",
   "execution_count": 42,
   "id": "67ea4504",
   "metadata": {
    "scrolled": true
   },
   "outputs": [
    {
     "data": {
      "text/plain": [
       "<AxesSubplot:xlabel='Date'>"
      ]
     },
     "execution_count": 42,
     "metadata": {},
     "output_type": "execute_result"
    },
    {
     "data": {
      "image/png": "[encoded data removed]",
      "text/plain": [
       "<Figure size 432x288 with 1 Axes>"
      ]
     },
     "metadata": {
      "needs_background": "light"
     },
     "output_type": "display_data"
    }
   ],
   "source": [
    "amzn_change.cumsum().plot()\n",
    "goog_change.cumsum().plot()"
   ]
  },
  {
   "cell_type": "markdown",
   "id": "f255084b",
   "metadata": {},
   "source": [
    "### Create new dataframe and save to csv"
   ]
  },
  {
   "cell_type": "code",
   "execution_count": 48,
   "id": "30bfb196",
   "metadata": {},
   "outputs": [
    {
     "data": {
      "text/html": [
       "<div>\n",
       "<style scoped>\n",
       "    .dataframe tbody tr th:only-of-type {\n",
       "        vertical-align: middle;\n",
       "    }\n",
       "\n",
       "    .dataframe tbody tr th {\n",
       "        vertical-align: top;\n",
       "    }\n",
       "\n",
       "    .dataframe thead th {\n",
       "        text-align: right;\n",
       "    }\n",
       "</style>\n",
       "<table border=\"1\" class=\"dataframe\">\n",
       "  <thead>\n",
       "    <tr style=\"text-align: right;\">\n",
       "      <th></th>\n",
       "      <th>AMZN</th>\n",
       "      <th>GOOG</th>\n",
       "    </tr>\n",
       "    <tr>\n",
       "      <th>Date</th>\n",
       "      <th></th>\n",
       "      <th></th>\n",
       "    </tr>\n",
       "  </thead>\n",
       "  <tbody>\n",
       "    <tr>\n",
       "      <th>2012-11-02</th>\n",
       "      <td>0.001205</td>\n",
       "      <td>NaN</td>\n",
       "    </tr>\n",
       "    <tr>\n",
       "      <th>2012-11-05</th>\n",
       "      <td>0.008184</td>\n",
       "      <td>NaN</td>\n",
       "    </tr>\n",
       "    <tr>\n",
       "      <th>2012-11-06</th>\n",
       "      <td>0.013690</td>\n",
       "      <td>NaN</td>\n",
       "    </tr>\n",
       "    <tr>\n",
       "      <th>2012-11-07</th>\n",
       "      <td>-0.023424</td>\n",
       "      <td>NaN</td>\n",
       "    </tr>\n",
       "    <tr>\n",
       "      <th>2012-11-08</th>\n",
       "      <td>-0.020505</td>\n",
       "      <td>NaN</td>\n",
       "    </tr>\n",
       "  </tbody>\n",
       "</table>\n",
       "</div>"
      ],
      "text/plain": [
       "                AMZN  GOOG\n",
       "Date                      \n",
       "2012-11-02  0.001205   NaN\n",
       "2012-11-05  0.008184   NaN\n",
       "2012-11-06  0.013690   NaN\n",
       "2012-11-07 -0.023424   NaN\n",
       "2012-11-08 -0.020505   NaN"
      ]
     },
     "execution_count": 48,
     "metadata": {},
     "output_type": "execute_result"
    }
   ],
   "source": [
    "new = pd.DataFrame({'AMZN': amzn_change[1:],'GOOG': goog_change[1:]}) #slice the first row as we see null values in both amzn and goog\n",
    "new.head()\n",
    "# we sliced the first row as we cannot do calculations if both columns as null (?)"
   ]
  },
  {
   "cell_type": "code",
   "execution_count": 50,
   "id": "1f7a018a",
   "metadata": {},
   "outputs": [],
   "source": [
    "new.to_csv('stocks.csv') #export the data"
   ]
  },
  {
   "cell_type": "code",
   "execution_count": 51,
   "id": "9ade742c",
   "metadata": {},
   "outputs": [
    {
     "data": {
      "text/html": [
       "<div>\n",
       "<style scoped>\n",
       "    .dataframe tbody tr th:only-of-type {\n",
       "        vertical-align: middle;\n",
       "    }\n",
       "\n",
       "    .dataframe tbody tr th {\n",
       "        vertical-align: top;\n",
       "    }\n",
       "\n",
       "    .dataframe thead th {\n",
       "        text-align: right;\n",
       "    }\n",
       "</style>\n",
       "<table border=\"1\" class=\"dataframe\">\n",
       "  <thead>\n",
       "    <tr style=\"text-align: right;\">\n",
       "      <th></th>\n",
       "      <th>Date</th>\n",
       "      <th>AMZN</th>\n",
       "      <th>GOOG</th>\n",
       "    </tr>\n",
       "  </thead>\n",
       "  <tbody>\n",
       "    <tr>\n",
       "      <th>0</th>\n",
       "      <td>2012-11-02</td>\n",
       "      <td>0.001205</td>\n",
       "      <td>NaN</td>\n",
       "    </tr>\n",
       "    <tr>\n",
       "      <th>1</th>\n",
       "      <td>2012-11-05</td>\n",
       "      <td>0.008184</td>\n",
       "      <td>NaN</td>\n",
       "    </tr>\n",
       "    <tr>\n",
       "      <th>2</th>\n",
       "      <td>2012-11-06</td>\n",
       "      <td>0.013690</td>\n",
       "      <td>NaN</td>\n",
       "    </tr>\n",
       "    <tr>\n",
       "      <th>3</th>\n",
       "      <td>2012-11-07</td>\n",
       "      <td>-0.023424</td>\n",
       "      <td>NaN</td>\n",
       "    </tr>\n",
       "    <tr>\n",
       "      <th>4</th>\n",
       "      <td>2012-11-08</td>\n",
       "      <td>-0.020505</td>\n",
       "      <td>NaN</td>\n",
       "    </tr>\n",
       "  </tbody>\n",
       "</table>\n",
       "</div>"
      ],
      "text/plain": [
       "         Date      AMZN  GOOG\n",
       "0  2012-11-02  0.001205   NaN\n",
       "1  2012-11-05  0.008184   NaN\n",
       "2  2012-11-06  0.013690   NaN\n",
       "3  2012-11-07 -0.023424   NaN\n",
       "4  2012-11-08 -0.020505   NaN"
      ]
     },
     "execution_count": 51,
     "metadata": {},
     "output_type": "execute_result"
    }
   ],
   "source": [
    "pd.read_csv('stocks.csv').head()"
   ]
  },
  {
   "cell_type": "markdown",
   "id": "abfc6dab",
   "metadata": {},
   "source": [
    "#### since the above is showing the default index values, in order to set the index to date column, these steps have been implemented"
   ]
  },
  {
   "cell_type": "code",
   "execution_count": 52,
   "id": "4b46295e",
   "metadata": {},
   "outputs": [
    {
     "data": {
      "text/html": [
       "<div>\n",
       "<style scoped>\n",
       "    .dataframe tbody tr th:only-of-type {\n",
       "        vertical-align: middle;\n",
       "    }\n",
       "\n",
       "    .dataframe tbody tr th {\n",
       "        vertical-align: top;\n",
       "    }\n",
       "\n",
       "    .dataframe thead th {\n",
       "        text-align: right;\n",
       "    }\n",
       "</style>\n",
       "<table border=\"1\" class=\"dataframe\">\n",
       "  <thead>\n",
       "    <tr style=\"text-align: right;\">\n",
       "      <th></th>\n",
       "      <th>Date</th>\n",
       "      <th>AMZN</th>\n",
       "      <th>GOOG</th>\n",
       "    </tr>\n",
       "    <tr>\n",
       "      <th>Date</th>\n",
       "      <th></th>\n",
       "      <th></th>\n",
       "      <th></th>\n",
       "    </tr>\n",
       "  </thead>\n",
       "  <tbody>\n",
       "    <tr>\n",
       "      <th>2012-11-02</th>\n",
       "      <td>2012-11-02</td>\n",
       "      <td>0.001205</td>\n",
       "      <td>NaN</td>\n",
       "    </tr>\n",
       "    <tr>\n",
       "      <th>2012-11-05</th>\n",
       "      <td>2012-11-05</td>\n",
       "      <td>0.008184</td>\n",
       "      <td>NaN</td>\n",
       "    </tr>\n",
       "    <tr>\n",
       "      <th>2012-11-06</th>\n",
       "      <td>2012-11-06</td>\n",
       "      <td>0.013690</td>\n",
       "      <td>NaN</td>\n",
       "    </tr>\n",
       "    <tr>\n",
       "      <th>2012-11-07</th>\n",
       "      <td>2012-11-07</td>\n",
       "      <td>-0.023424</td>\n",
       "      <td>NaN</td>\n",
       "    </tr>\n",
       "    <tr>\n",
       "      <th>2012-11-08</th>\n",
       "      <td>2012-11-08</td>\n",
       "      <td>-0.020505</td>\n",
       "      <td>NaN</td>\n",
       "    </tr>\n",
       "  </tbody>\n",
       "</table>\n",
       "</div>"
      ],
      "text/plain": [
       "                  Date      AMZN  GOOG\n",
       "Date                                  \n",
       "2012-11-02  2012-11-02  0.001205   NaN\n",
       "2012-11-05  2012-11-05  0.008184   NaN\n",
       "2012-11-06  2012-11-06  0.013690   NaN\n",
       "2012-11-07  2012-11-07 -0.023424   NaN\n",
       "2012-11-08  2012-11-08 -0.020505   NaN"
      ]
     },
     "execution_count": 52,
     "metadata": {},
     "output_type": "execute_result"
    }
   ],
   "source": [
    "new_stocks = pd.read_csv('stocks.csv')\n",
    "new_stocks.index = new_stocks.Date\n",
    "new_stocks.head()"
   ]
  },
  {
   "cell_type": "markdown",
   "id": "ee7eab4e",
   "metadata": {},
   "source": [
    "#### need to remove the redundant date column"
   ]
  },
  {
   "cell_type": "code",
   "execution_count": 55,
   "id": "627f1c64",
   "metadata": {},
   "outputs": [
    {
     "data": {
      "text/html": [
       "<div>\n",
       "<style scoped>\n",
       "    .dataframe tbody tr th:only-of-type {\n",
       "        vertical-align: middle;\n",
       "    }\n",
       "\n",
       "    .dataframe tbody tr th {\n",
       "        vertical-align: top;\n",
       "    }\n",
       "\n",
       "    .dataframe thead th {\n",
       "        text-align: right;\n",
       "    }\n",
       "</style>\n",
       "<table border=\"1\" class=\"dataframe\">\n",
       "  <thead>\n",
       "    <tr style=\"text-align: right;\">\n",
       "      <th></th>\n",
       "      <th>AMZN</th>\n",
       "      <th>GOOG</th>\n",
       "    </tr>\n",
       "    <tr>\n",
       "      <th>Date</th>\n",
       "      <th></th>\n",
       "      <th></th>\n",
       "    </tr>\n",
       "  </thead>\n",
       "  <tbody>\n",
       "    <tr>\n",
       "      <th>2012-11-02</th>\n",
       "      <td>0.001205</td>\n",
       "      <td>NaN</td>\n",
       "    </tr>\n",
       "    <tr>\n",
       "      <th>2012-11-05</th>\n",
       "      <td>0.008184</td>\n",
       "      <td>NaN</td>\n",
       "    </tr>\n",
       "    <tr>\n",
       "      <th>2012-11-06</th>\n",
       "      <td>0.013690</td>\n",
       "      <td>NaN</td>\n",
       "    </tr>\n",
       "    <tr>\n",
       "      <th>2012-11-07</th>\n",
       "      <td>-0.023424</td>\n",
       "      <td>NaN</td>\n",
       "    </tr>\n",
       "    <tr>\n",
       "      <th>2012-11-08</th>\n",
       "      <td>-0.020505</td>\n",
       "      <td>NaN</td>\n",
       "    </tr>\n",
       "  </tbody>\n",
       "</table>\n",
       "</div>"
      ],
      "text/plain": [
       "                AMZN  GOOG\n",
       "Date                      \n",
       "2012-11-02  0.001205   NaN\n",
       "2012-11-05  0.008184   NaN\n",
       "2012-11-06  0.013690   NaN\n",
       "2012-11-07 -0.023424   NaN\n",
       "2012-11-08 -0.020505   NaN"
      ]
     },
     "execution_count": 55,
     "metadata": {},
     "output_type": "execute_result"
    }
   ],
   "source": [
    "new_stocks.drop(['Date'],axis=1,inplace=True) \n",
    "# drop method needs list. axis =1 means columns, axis=0 means rows \n",
    "#inplace means modify the existing dataframe\n",
    "new_stocks.head()"
   ]
  },
  {
   "cell_type": "code",
   "execution_count": null,
   "id": "0a2ab89b",
   "metadata": {},
   "outputs": [],
   "source": []
  }
 ],
 "metadata": {
  "kernelspec": {
   "display_name": "Python 3 (ipykernel)",
   "language": "python",
   "name": "python3"
  },
  "language_info": {
   "codemirror_mode": {
    "name": "ipython",
    "version": 3
   },
   "file_extension": ".py",
   "mimetype": "text/x-python",
   "name": "python",
   "nbconvert_exporter": "python",
   "pygments_lexer": "ipython3",
   "version": "3.9.12"
  }
 },
 "nbformat": 4,
 "nbformat_minor": 5
}
